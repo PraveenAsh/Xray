{
 "cells": [
  {
   "cell_type": "markdown",
   "metadata": {},
   "source": [
    "Machine Learning Project\n",
    "-----------\n",
    "Classification and prediction of Common Thorax Diseases.\n",
    "Chest X-ray dataset comprises 112,120 frontal view X-ray images of 30,805 unique patients with the text mined fourteen disease image labels (where each image can have multi labels), mined from the associated radiological reports using natural language processing. Fourteen common thoracic pathologies include Atelectasis, Consolidation, Infiltration, Pneumothorax, Edema, Emphysema, Fibrosis, Effusion, Pneumonia, Pleural_thickening, Cardiomegaly, Nodule, Mass and Hernia, which is an extension of the 8 common disease patterns listed in CVPR 2017 paper."
   ]
  },
  {
   "cell_type": "code",
   "execution_count": 2,
   "metadata": {},
   "outputs": [],
   "source": [
    "#All imports neccesary for the preprocessing of the data\n",
    "import pandas as pd\n",
    "import matplotlib.pyplot as plt\n",
    "import os\n",
    "import numpy as np\n",
    "import seaborn as sns\n",
    "%matplotlib inline"
   ]
  },
  {
   "cell_type": "code",
   "execution_count": 3,
   "metadata": {},
   "outputs": [],
   "source": [
    "#Root directory path containing all the files\n",
    "rootPath = 'C:/Users/PRAVEEN NAIK/Desktop/HackerRank-Deeplearning/'\n",
    "train_pathFold = './dl2_trimages/'\n",
    "test_pathFold = './dl2_teimage/'\n",
    "csv_trainPath = 'input/'\n",
    "#Training data\n",
    "train = pd.read_csv(rootPath+csv_trainPath+'train.csv')\n",
    "#Testing data\n",
    "test = pd.read_csv(rootPath+csv_trainPath+'test.csv')"
   ]
  },
  {
   "cell_type": "code",
   "execution_count": 4,
   "metadata": {},
   "outputs": [
    {
     "data": {
      "text/html": [
       "<div>\n",
       "<style scoped>\n",
       "    .dataframe tbody tr th:only-of-type {\n",
       "        vertical-align: middle;\n",
       "    }\n",
       "\n",
       "    .dataframe tbody tr th {\n",
       "        vertical-align: top;\n",
       "    }\n",
       "\n",
       "    .dataframe thead th {\n",
       "        text-align: right;\n",
       "    }\n",
       "</style>\n",
       "<table border=\"1\" class=\"dataframe\">\n",
       "  <thead>\n",
       "    <tr style=\"text-align: right;\">\n",
       "      <th></th>\n",
       "      <th>row_id</th>\n",
       "      <th>age</th>\n",
       "      <th>gender</th>\n",
       "      <th>view_position</th>\n",
       "      <th>image_name</th>\n",
       "      <th>detected</th>\n",
       "    </tr>\n",
       "  </thead>\n",
       "  <tbody>\n",
       "    <tr>\n",
       "      <th>0</th>\n",
       "      <td>id_0</td>\n",
       "      <td>45</td>\n",
       "      <td>M</td>\n",
       "      <td>0</td>\n",
       "      <td>scan_0000.png</td>\n",
       "      <td>class_3</td>\n",
       "    </tr>\n",
       "    <tr>\n",
       "      <th>1</th>\n",
       "      <td>id_1</td>\n",
       "      <td>57</td>\n",
       "      <td>F</td>\n",
       "      <td>0</td>\n",
       "      <td>scan_0001.png</td>\n",
       "      <td>class_3</td>\n",
       "    </tr>\n",
       "    <tr>\n",
       "      <th>2</th>\n",
       "      <td>id_10</td>\n",
       "      <td>58</td>\n",
       "      <td>M</td>\n",
       "      <td>0</td>\n",
       "      <td>scan_00010.png</td>\n",
       "      <td>class_3</td>\n",
       "    </tr>\n",
       "    <tr>\n",
       "      <th>3</th>\n",
       "      <td>id_1000</td>\n",
       "      <td>64</td>\n",
       "      <td>M</td>\n",
       "      <td>0</td>\n",
       "      <td>scan_0001000.png</td>\n",
       "      <td>class_6</td>\n",
       "    </tr>\n",
       "    <tr>\n",
       "      <th>4</th>\n",
       "      <td>id_10000</td>\n",
       "      <td>33</td>\n",
       "      <td>M</td>\n",
       "      <td>1</td>\n",
       "      <td>scan_00010000.png</td>\n",
       "      <td>class_3</td>\n",
       "    </tr>\n",
       "  </tbody>\n",
       "</table>\n",
       "</div>"
      ],
      "text/plain": [
       "     row_id  age gender  view_position         image_name detected\n",
       "0      id_0   45      M              0      scan_0000.png  class_3\n",
       "1      id_1   57      F              0      scan_0001.png  class_3\n",
       "2     id_10   58      M              0     scan_00010.png  class_3\n",
       "3   id_1000   64      M              0   scan_0001000.png  class_6\n",
       "4  id_10000   33      M              1  scan_00010000.png  class_3"
      ]
     },
     "execution_count": 4,
     "metadata": {},
     "output_type": "execute_result"
    }
   ],
   "source": [
    "train.head()"
   ]
  },
  {
   "cell_type": "code",
   "execution_count": 5,
   "metadata": {},
   "outputs": [
    {
     "name": "stdout",
     "output_type": "stream",
     "text": [
      "The train data has 5999 images.\n",
      "The test data has 3599 images.\n"
     ]
    }
   ],
   "source": [
    "print ('The train data has {} images.'.format(train.shape[0]))\n",
    "print ('The test data has {} images.'.format(test.shape[0]))"
   ]
  },
  {
   "cell_type": "code",
   "execution_count": 6,
   "metadata": {},
   "outputs": [
    {
     "name": "stdout",
     "output_type": "stream",
     "text": [
      "The train data has 14 unique classes\n"
     ]
    }
   ],
   "source": [
    "#Number of classes in the dataset\n",
    "print ('The train data has {} unique classes'.format(train['detected'].nunique()))"
   ]
  },
  {
   "cell_type": "markdown",
   "metadata": {},
   "source": [
    "The train and test data consist of a large number of images. Working on these images is graphically intensive, so it is recommended to either work on a powerful system or work in the cloud."
   ]
  },
  {
   "cell_type": "code",
   "execution_count": 7,
   "metadata": {},
   "outputs": [
    {
     "data": {
      "image/png": "[encoded data removed]",
      "text/plain": [
       "<matplotlib.figure.Figure at 0x1b5dce29b00>"
      ]
     },
     "metadata": {},
     "output_type": "display_data"
    }
   ],
   "source": [
    "#Frequency distribution of the data versus class\n",
    "detected_counts = train.detected.value_counts()\n",
    "plt.figure(figsize = (12,6))\n",
    "sns.barplot(detected_counts.index, detected_counts.values, alpha = 0.9)\n",
    "plt.xticks(rotation = 'vertical')\n",
    "plt.xlabel('Detected classes', fontsize =12)\n",
    "plt.ylabel('Counts', fontsize = 12)\n",
    "plt.show()"
   ]
  },
  {
   "cell_type": "markdown",
   "metadata": {},
   "source": [
    "class_3 has the highest occurence followed by class_7. In comparision class_9 has the least number."
   ]
  },
  {
   "cell_type": "code",
   "execution_count": 8,
   "metadata": {},
   "outputs": [],
   "source": [
    "import cv2 as cv"
   ]
  },
  {
   "cell_type": "code",
   "execution_count": 9,
   "metadata": {},
   "outputs": [],
   "source": [
    "#Testing a sample picture\n",
    "img = cv.imread(rootPath+train_pathFold + 'scan_0001.png')"
   ]
  },
  {
   "cell_type": "code",
   "execution_count": 10,
   "metadata": {},
   "outputs": [
    {
     "data": {
      "text/plain": [
       "(1024, 1024, 3)"
      ]
     },
     "execution_count": 10,
     "metadata": {},
     "output_type": "execute_result"
    }
   ],
   "source": [
    "img.shape"
   ]
  },
  {
   "cell_type": "markdown",
   "metadata": {},
   "source": [
    "Unlike humans, a computer cannot recognise an image as it is. The computer cannot see shapes or colors. To a computer, any image is read as an array of numbers."
   ]
  },
  {
   "cell_type": "code",
   "execution_count": 11,
   "metadata": {},
   "outputs": [
    {
     "data": {
      "text/plain": [
       "<matplotlib.image.AxesImage at 0x1b5dc7a44e0>"
      ]
     },
     "execution_count": 11,
     "metadata": {},
     "output_type": "execute_result"
    },
    {
     "data": {
      "image/png": "[encoded data removed]",
      "text/plain": [
       "<matplotlib.figure.Figure at 0x1b5dc807240>"
      ]
     },
     "metadata": {},
     "output_type": "display_data"
    }
   ],
   "source": [
    "plt.imshow(img)"
   ]
  },
  {
   "cell_type": "code",
   "execution_count": 12,
   "metadata": {},
   "outputs": [
    {
     "data": {
      "text/plain": [
       "array([[[ 1,  1,  1],\n",
       "        [ 1,  1,  1],\n",
       "        [ 1,  1,  1],\n",
       "        ...,\n",
       "        [ 1,  1,  1],\n",
       "        [ 1,  1,  1],\n",
       "        [ 1,  1,  1]],\n",
       "\n",
       "       [[ 1,  1,  1],\n",
       "        [ 2,  2,  2],\n",
       "        [ 2,  2,  2],\n",
       "        ...,\n",
       "        [ 2,  2,  2],\n",
       "        [ 2,  2,  2],\n",
       "        [ 1,  1,  1]],\n",
       "\n",
       "       [[ 1,  1,  1],\n",
       "        [ 2,  2,  2],\n",
       "        [ 2,  2,  2],\n",
       "        ...,\n",
       "        [ 2,  2,  2],\n",
       "        [ 2,  2,  2],\n",
       "        [ 1,  1,  1]],\n",
       "\n",
       "       ...,\n",
       "\n",
       "       [[ 1,  1,  1],\n",
       "        [ 2,  2,  2],\n",
       "        [ 2,  2,  2],\n",
       "        ...,\n",
       "        [23, 23, 23],\n",
       "        [14, 14, 14],\n",
       "        [ 6,  6,  6]],\n",
       "\n",
       "       [[ 1,  1,  1],\n",
       "        [ 2,  2,  2],\n",
       "        [ 2,  2,  2],\n",
       "        ...,\n",
       "        [36, 36, 36],\n",
       "        [30, 30, 30],\n",
       "        [12, 12, 12]],\n",
       "\n",
       "       [[ 1,  1,  1],\n",
       "        [ 1,  1,  1],\n",
       "        [ 1,  1,  1],\n",
       "        ...,\n",
       "        [17, 17, 17],\n",
       "        [20, 20, 20],\n",
       "        [ 9,  9,  9]]], dtype=uint8)"
      ]
     },
     "execution_count": 12,
     "metadata": {},
     "output_type": "execute_result"
    }
   ],
   "source": [
    "img"
   ]
  },
  {
   "cell_type": "markdown",
   "metadata": {},
   "source": [
    "It sees it as a 1024x1024x3 array where the first two numbers represent the number of rows of pixels and the number of columns of pixels. 3 represents the RGB color spectrum. Each number in the array represents a single pixel.\n",
    "\n",
    "While we can load all the images in the same way, processing 18000 images of size 1024x1024 require enormous computation power. Instead, we resize them to more appropriate sizes.\n",
    "\n",
    "VGG16 consists of 16 layer deep neural network weights. the model expects images as input with the size 224 x 224 pixels with 3 channels (e.g. color) for best modelling."
   ]
  },
  {
   "cell_type": "code",
   "execution_count": 13,
   "metadata": {},
   "outputs": [],
   "source": [
    "#setting the Target size or resizing images\n",
    "targetSize = 224 , 224"
   ]
  },
  {
   "cell_type": "code",
   "execution_count": 14,
   "metadata": {},
   "outputs": [],
   "source": [
    "#Function to import one image\n",
    "def read_img(img_path):\n",
    "    img = cv.imread(img_path)\n",
    "    img = cv.resize(img, targetSize)\n",
    "    return img"
   ]
  },
  {
   "cell_type": "code",
   "execution_count": 15,
   "metadata": {},
   "outputs": [],
   "source": [
    "from tqdm import tqdm"
   ]
  },
  {
   "cell_type": "code",
   "execution_count": 16,
   "metadata": {},
   "outputs": [
    {
     "name": "stderr",
     "output_type": "stream",
     "text": [
      "100%|██████████████████████████████████████████████████████████████████████████████| 5999/5999 [01:28<00:00, 67.59it/s]\n"
     ]
    }
   ],
   "source": [
    "#Loading the Training dataset\n",
    "train_img = []\n",
    "for img_path in tqdm(train['image_name'].values):\n",
    "    train_img.append(read_img( rootPath + train_pathFold + img_path))"
   ]
  },
  {
   "cell_type": "markdown",
   "metadata": {},
   "source": [
    "Preprocessing data\n",
    "------------\n",
    "The preprocessing of the input data to make it better fit our model.\n",
    "\n",
    "The list of arrays which contain the data for all the training images. Next convert this list into a numpy array\n"
   ]
  },
  {
   "cell_type": "code",
   "execution_count": 17,
   "metadata": {},
   "outputs": [],
   "source": [
    "XTrain_Original = np.array(train_img, np.float32) / 255"
   ]
  },
  {
   "cell_type": "code",
   "execution_count": 18,
   "metadata": {},
   "outputs": [],
   "source": [
    "meanImg = np.mean(XTrain_Original,axis=0)"
   ]
  },
  {
   "cell_type": "code",
   "execution_count": 19,
   "metadata": {},
   "outputs": [],
   "source": [
    "standardDevImg = np.std(XTrain_Original,axis=0)"
   ]
  },
  {
   "cell_type": "code",
   "execution_count": 20,
   "metadata": {},
   "outputs": [
    {
     "data": {
      "text/plain": [
       "<matplotlib.image.AxesImage at 0x1b5dc937240>"
      ]
     },
     "execution_count": 20,
     "metadata": {},
     "output_type": "execute_result"
    },
    {
     "data": {
      "image/png": "[encoded data removed]",
      "text/plain": [
       "<matplotlib.figure.Figure at 0x1b5dc917198>"
      ]
     },
     "metadata": {},
     "output_type": "display_data"
    }
   ],
   "source": [
    "plt.imshow(meanImg)"
   ]
  },
  {
   "cell_type": "markdown",
   "metadata": {},
   "source": [
    "The above image is the mean of all the training images. It is a good average representation of the entire training dataset.\n",
    "\n",
    "It is not possible to view the entire 18000 images at once. Thus using the mean image to observe an average of the entire dataset. The mean image is calculated by taking the mean values for each pixel across all training examples. The image roughly represents the thorax. This image lets us conclude that all the thoraxes are somewhat aligned to the center and are of comparable size.\n"
   ]
  },
  {
   "cell_type": "code",
   "execution_count": 21,
   "metadata": {},
   "outputs": [
    {
     "data": {
      "text/plain": [
       "<matplotlib.image.AxesImage at 0x1b5dc974438>"
      ]
     },
     "execution_count": 21,
     "metadata": {},
     "output_type": "execute_result"
    },
    {
     "data": {
      "image/png": "[encoded data removed]",
      "text/plain": [
       "<matplotlib.figure.Figure at 0x1b5dc93ba20>"
      ]
     },
     "metadata": {},
     "output_type": "display_data"
    }
   ],
   "source": [
    "plt.imshow(standardDevImg)"
   ]
  },
  {
   "cell_type": "markdown",
   "metadata": {},
   "source": [
    "The above image is the standard deviation of all images. High variance shows up whiter, so we see that the pictures vary a lot at the lungs compared to the rest of the image.\n",
    "\n",
    "The reason we calculate both of these things is because in the process of training our network, we're going to be multiplying (weights) and adding to (biases) these initial inputs in order to cause activations that we then backpropogate with the gradients to train the model.\n",
    "We'd like in this process for each feature to have a similar range so that our gradients don't go out of control (and that we only need one global learning rate multiplier).\n",
    "\n",
    "While we can pass x_train as it is to our learning model, it is better to normalize it first. Normalizing both the train and test data for this problem can result in as much as a 12% increase in accuracy.\n",
    "\n",
    "We normalize it using this formula: X = (x - mean of x) / standard deviation of x."
   ]
  },
  {
   "cell_type": "code",
   "execution_count": 22,
   "metadata": {},
   "outputs": [],
   "source": [
    "# XTarin(supposed to be XtrainNorm but convenience) is the normalised version of XTrain_Original.\n",
    "XTrain = (XTrain_Original - meanImg) / standardDevImg"
   ]
  },
  {
   "cell_type": "code",
   "execution_count": 23,
   "metadata": {},
   "outputs": [],
   "source": [
    "del XTrain_Original"
   ]
  },
  {
   "cell_type": "markdown",
   "metadata": {},
   "source": [
    "Using numpy arrays we convert the images into an list of array of dimensions (N,224,224,3).Where N is the size of the dataset. On top of the VVG16 net altered, one dense layer and one output softmax layer with 14 tensors(Which is the number of classes)."
   ]
  },
  {
   "cell_type": "code",
   "execution_count": 24,
   "metadata": {},
   "outputs": [
    {
     "data": {
      "text/plain": [
       "(5999, 224, 224, 3)"
      ]
     },
     "execution_count": 24,
     "metadata": {},
     "output_type": "execute_result"
    }
   ],
   "source": [
    "XTrain.shape"
   ]
  },
  {
   "cell_type": "markdown",
   "metadata": {},
   "source": [
    "Our final training data is an 18577x124x124x3 array. This mean that it is an array of 18577 images of size 124x124.\n",
    "\n",
    "The target variable needs to be encoded as the model needs a array of numbers to train."
   ]
  },
  {
   "cell_type": "code",
   "execution_count": 27,
   "metadata": {},
   "outputs": [],
   "source": [
    "#Encoding the classes value into intergers for training\n",
    "class_list = train['detected'].tolist()\n",
    "YTrain = {k:v+1 for v,k in enumerate(set(class_list))}\n",
    "YTrain = [YTrain[k] for k in class_list]"
   ]
  },
  {
   "cell_type": "code",
   "execution_count": null,
   "metadata": {},
   "outputs": [],
   "source": [
    "#All imports for training the dataset\n",
    "from keras import applications\n",
    "from keras import optimizers\n",
    "from keras.models import Model\n",
    "from keras.models import Sequential\n",
    "from keras.layers import Dense, Dropout, Flatten, Convolution2D, MaxPooling2D\n",
    "from keras.callbacks import EarlyStopping\n",
    "from keras.utils import to_categorical\n",
    "from keras.preprocessing.image import ImageDataGenerator"
   ]
  },
  {
   "cell_type": "markdown",
   "metadata": {},
   "source": [
    "We use the keras module for this problem. Keras is a high-level API written in Python. It runs on top of Tensorflow, CNTK or Theano. It is relatively easy to use and is very fast."
   ]
  },
  {
   "cell_type": "code",
   "execution_count": null,
   "metadata": {},
   "outputs": [],
   "source": [
    "#Ytrain for the model\n",
    "YTrain = to_categorical(YTrain)"
   ]
  },
  {
   "cell_type": "markdown",
   "metadata": {},
   "source": [
    "Modeling\n",
    "----\n",
    "The most important part of a Deep learning problem is to choose the appropriate training model. While choosing a model, we have two options:\n",
    ">1. Transfer learning: Where you transfer a pre-built model and weights and fit it to your model.\n",
    ">2. Create your own model: Here you create your own model from scratch and train its weights. This gives you better control over your model.\n",
    "We have adapted transfer learning model.\n",
    "\n",
    "A Deep learning model consists of a number of layers connected to each other. The input data is passed through each layer, one-by-one. We used VGG16 with 16 layers of deep network."
   ]
  },
  {
   "cell_type": "code",
   "execution_count": null,
   "metadata": {},
   "outputs": [],
   "source": [
    "base_model = applications.VGG16(weights='imagenet', include_top=False, input_shape=(IMG_SIZE, IMG_SIZE, 3))"
   ]
  },
  {
   "cell_type": "code",
   "execution_count": null,
   "metadata": {},
   "outputs": [],
   "source": [
    "add_model = Sequential()\n",
    "add_model.add(Flatten(input_shape=base_model.output_shape[1:]))\n",
    "add_model.add(Dense(256, activation='relu'))\n",
    "add_model.add(Dense(y_train.shape[1], activation='softmax'))\n",
    "\n",
    "model = Model(inputs=base_model.input, outputs=add_model(base_model.output))\n",
    "model.compile(loss='categorical_crossentropy', optimizer=optimizers.SGD(lr=1e-4, momentum=0.9),\n",
    "              metrics=['accuracy'])"
   ]
  },
  {
   "cell_type": "code",
   "execution_count": null,
   "metadata": {},
   "outputs": [],
   "source": [
    "early_stops = EarlyStopping(patience=3, monitor='val_acc')"
   ]
  },
  {
   "cell_type": "markdown",
   "metadata": {},
   "source": [
    "\n",
    "We define an early stopping condition for the model. If the val_acc is the same three times, the model stops.\n",
    "\n",
    "We now train this model using the input data. An epoch is when the model runs through the entire data once. batch_size is the size by which our input data is split. validation_split splits our data into 70% training and 30% validation. The below code splits the input data into batches of 100 images and runs them through the model 150 times."
   ]
  },
  {
   "cell_type": "code",
   "execution_count": null,
   "metadata": {},
   "outputs": [],
   "source": [
    "model.summary()"
   ]
  },
  {
   "cell_type": "code",
   "execution_count": null,
   "metadata": {},
   "outputs": [],
   "source": [
    "batch_size = 100 # Tune it based on GPU memory\n",
    "epochs = 150 # increase it lb:0.40856(150 epochs(max)), 0.27101 (5 epochs) to avoid overfitting\n",
    "\n",
    "train_datagen = ImageDataGenerator(\n",
    "        rotation_range=30, \n",
    "        width_shift_range=0.1,\n",
    "        height_shift_range=0.1, \n",
    "        horizontal_flip=False)\n",
    "train_datagen.fit(XTrain)"
   ]
  },
  {
   "cell_type": "code",
   "execution_count": null,
   "metadata": {},
   "outputs": [],
   "source": [
    "history = model.fit_generator(\n",
    "    train_datagen.flow(XTrain, YTrain, batch_size=batch_size),\n",
    "    steps_per_epoch= XTrain.shape[0] // batch_size,\n",
    "    epochs=epochs\n",
    ")"
   ]
  },
  {
   "cell_type": "code",
   "execution_count": null,
   "metadata": {},
   "outputs": [],
   "source": [
    "del XTrain"
   ]
  },
  {
   "cell_type": "markdown",
   "metadata": {},
   "source": [
    "Prediction\n",
    "----\n",
    "Now that we have built and trained our model, it is time to precit the test data."
   ]
  },
  {
   "cell_type": "code",
   "execution_count": null,
   "metadata": {},
   "outputs": [],
   "source": [
    "test_img = []\n",
    "for img_name in tqdm(test['image_name'].values):\n",
    "    test_img.append(read_img(TEST_PATH + img_name))\n",
    "\n",
    "XTest = np.array(test_img, np.float32) / 255.\n",
    "del test_img"
   ]
  },
  {
   "cell_type": "markdown",
   "metadata": {},
   "source": [
    "We import the test data and pass it to an array."
   ]
  },
  {
   "cell_type": "code",
   "execution_count": null,
   "metadata": {},
   "outputs": [],
   "source": [
    "XTest = (XTest - mean_img) / std_img"
   ]
  },
  {
   "cell_type": "code",
   "execution_count": null,
   "metadata": {},
   "outputs": [],
   "source": [
    "predictions = model.predict(XTest)"
   ]
  },
  {
   "cell_type": "code",
   "execution_count": null,
   "metadata": {},
   "outputs": [],
   "source": [
    "# get labels\n",
    "predictions = np.argmax(predictions, axis=1)\n",
    "rev_y = {v:k for k,v in label_numeric.items()}\n",
    "pred_labels = [rev_y[k] for k in predictions]"
   ]
  },
  {
   "cell_type": "markdown",
   "metadata": {},
   "source": [
    "Creating results document\n",
    "-----\n",
    "Using the predictions to create a CSV file containing the prediction values."
   ]
  },
  {
   "cell_type": "code",
   "execution_count": null,
   "metadata": {},
   "outputs": [],
   "source": [
    "sub = pd.DataFrame({'row_id':test.row_id, 'Actual':test.actual,'Detected':pred_labels})\n",
    "sub = sub[['row_id','Actual','Detected']]\n",
    "filename = rootPath+'CM.csv'\n",
    "sub.to_csv(filename, index=False)"
   ]
  },
  {
   "cell_type": "code",
   "execution_count": 35,
   "metadata": {},
   "outputs": [],
   "source": [
    "import csv\n",
    "import itertools\n",
    "from sklearn.metrics import confusion_matrix\n",
    "from pandas_confusion import ConfusionMatrix"
   ]
  },
  {
   "cell_type": "markdown",
   "metadata": {},
   "source": [
    "Importing the stored csv file to analyze the results."
   ]
  },
  {
   "cell_type": "code",
   "execution_count": 36,
   "metadata": {},
   "outputs": [],
   "source": [
    "file = open(\"C:/Users/PRAVEEN NAIK/Desktop/HackerRank-Deeplearning/CM.csv\",\"r\")\n",
    "reader = csv.reader(file)"
   ]
  },
  {
   "cell_type": "markdown",
   "metadata": {},
   "source": [
    "Classification Accuracy and its Limitations\n",
    "-----\n",
    "*Classification accuracy = Correct predictions / Total predictions * 100 *\n",
    "\n",
    "*Error rate = (1 - (Correct predictions / Total predictions)) * 100 *"
   ]
  },
  {
   "cell_type": "code",
   "execution_count": 37,
   "metadata": {},
   "outputs": [
    {
     "name": "stdout",
     "output_type": "stream",
     "text": [
      "Accuracy :  93.7 %\n",
      "Error rate :  6.2999999999999945 %\n"
     ]
    }
   ],
   "source": [
    "count=0\n",
    "actual=[]\n",
    "predicted=[]\n",
    "for column in reader:\n",
    "    t = column[1], column[2]\n",
    "    actual.append(column[1])\n",
    "    predicted.append(column[2])\n",
    "    if(column[1]==column[2]):\n",
    "        count+=1\n",
    "        #print(t)\n",
    "print(\"Accuracy : \",(count/1000)*100,\"%\")\n",
    "print(\"Error rate : \",(1-(count/1000))*100,\"%\")\n",
    "cfm = confusion_matrix(actual[1:],predicted[1:])"
   ]
  },
  {
   "cell_type": "code",
   "execution_count": 38,
   "metadata": {},
   "outputs": [],
   "source": [
    "classLabel = [\"Effusion\", \"Fibrosis\", \"Infiltration\", \"Edema\", \"Consolidation\", \"Emphysema\", \"Atelectasis\", \"Pleural_Thickening\", \"Nodule\", \"Hernia\", \"Mass\", \"Pneumothorax\", \"Pneumonia\", \"Cardiomegaly\"]\n",
    "sortedClassLabel = [\"Fibrosis\",\"Pneumonia\",\"Consolidation\",\"Nodule\",\"Pleural_Thickening\",\"Emphysema\",\"Cardiomegaly\",\"Infiltration\",\"Mass\",\"Effusion\",\"Pneumothorax\",\"Atelectasis\",\"Edema\",\"Hernia\"]"
   ]
  },
  {
   "cell_type": "markdown",
   "metadata": {},
   "source": [
    "Confusion Matrix\n",
    "------\n",
    "A confusion matrix is a summary of prediction results on a classification problem.\n",
    "The number of correct and incorrect predictions are summarized with count values and broken down by each class. This is the key to the confusion matrix.\n",
    "\n",
    "Ploting the confusion matrix using Seaborn extension"
   ]
  },
  {
   "cell_type": "code",
   "execution_count": 54,
   "metadata": {},
   "outputs": [
    {
     "data": {
      "image/png": "[encoded data removed]",
      "text/plain": [
       "<matplotlib.figure.Figure at 0x1ee89cbac88>"
      ]
     },
     "metadata": {},
     "output_type": "display_data"
    }
   ],
   "source": [
    "plt.figure(figsize = (10,7))\n",
    "df_cm = pd.DataFrame(cfm, sortedClassLabel,sortedClassLabel)\n",
    "sns.set(font_scale=1)\n",
    "img = sns.heatmap(df_cm, annot=True,fmt=\"d\",linewidths=.05)\n",
    "plt.suptitle(\"Confusion matrix for prediction of Common Thorax Diseases\")\n",
    "plt.ylabel('Actual', fontsize=18)\n",
    "plt.xlabel('Predicted', fontsize=18)\n",
    "plt.subplots_adjust(left=0.2, bottom=0.25)\n",
    "plt.savefig('confusion_matrix.png')"
   ]
  },
  {
   "cell_type": "markdown",
   "metadata": {},
   "source": [
    "**End**"
   ]
  },
  {
   "cell_type": "markdown",
   "metadata": {},
   "source": [
    "* *** *"
   ]
  }
 ],
 "metadata": {
  "kernelspec": {
   "display_name": "Python 3",
   "language": "python",
   "name": "python3"
  },
  "language_info": {
   "codemirror_mode": {
    "name": "ipython",
    "version": 3
   },
   "file_extension": ".py",
   "mimetype": "text/x-python",
   "name": "python",
   "nbconvert_exporter": "python",
   "pygments_lexer": "ipython3",
   "version": "3.5.4"
  }
 },
 "nbformat": 4,
 "nbformat_minor": 2
}
